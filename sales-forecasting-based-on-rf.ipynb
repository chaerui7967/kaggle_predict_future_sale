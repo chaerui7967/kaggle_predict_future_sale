{
 "cells": [
  {
   "cell_type": "markdown",
   "id": "subjective-pencil",
   "metadata": {
    "papermill": {
     "duration": 0.011714,
     "end_time": "2021-06-06T03:24:22.621588",
     "exception": false,
     "start_time": "2021-06-06T03:24:22.609874",
     "status": "completed"
    },
    "tags": []
   },
   "source": [
    "#  Import the Packages"
   ]
  },
  {
   "cell_type": "code",
   "execution_count": 1,
   "id": "swiss-attention",
   "metadata": {
    "_cell_guid": "b1076dfc-b9ad-4769-8c92-a6c4dae69d19",
    "_uuid": "8f2839f25d086af736a60e9eeb907d3b93b6e0e5",
    "execution": {
     "iopub.execute_input": "2021-06-06T03:24:22.652234Z",
     "iopub.status.busy": "2021-06-06T03:24:22.651676Z",
     "iopub.status.idle": "2021-06-06T03:24:23.790256Z",
     "shell.execute_reply": "2021-06-06T03:24:23.789642Z",
     "shell.execute_reply.started": "2021-06-06T03:12:24.481240Z"
    },
    "papermill": {
     "duration": 1.157859,
     "end_time": "2021-06-06T03:24:23.790471",
     "exception": false,
     "start_time": "2021-06-06T03:24:22.632612",
     "status": "completed"
    },
    "scrolled": true,
    "tags": []
   },
   "outputs": [],
   "source": [
    "import numpy as np\n",
    "import pandas as pd\n",
    "import seaborn as sns\n",
    "import matplotlib.pyplot as plt\n",
    "import seaborn as sns\n",
    "from sklearn.model_selection import train_test_split\n",
    "from sklearn.ensemble import RandomForestRegressor\n",
    "from sklearn.preprocessing import StandardScaler, MinMaxScaler\n",
    "from sklearn.preprocessing import LabelEncoder, OneHotEncoder\n",
    "from sklearn.model_selection import StratifiedKFold, KFold\n",
    "from sklearn.metrics import mean_squared_error\n",
    "from sklearn import metrics"
   ]
  },
  {
   "cell_type": "markdown",
   "id": "removable-campbell",
   "metadata": {
    "papermill": {
     "duration": 0.010287,
     "end_time": "2021-06-06T03:24:23.811373",
     "exception": false,
     "start_time": "2021-06-06T03:24:23.801086",
     "status": "completed"
    },
    "tags": []
   },
   "source": [
    "#  Data Pre-Processing "
   ]
  },
  {
   "cell_type": "code",
   "execution_count": 2,
   "id": "continued-engine",
   "metadata": {
    "execution": {
     "iopub.execute_input": "2021-06-06T03:24:23.837019Z",
     "iopub.status.busy": "2021-06-06T03:24:23.836458Z",
     "iopub.status.idle": "2021-06-06T03:24:25.976008Z",
     "shell.execute_reply": "2021-06-06T03:24:25.975478Z",
     "shell.execute_reply.started": "2021-06-06T03:12:25.867024Z"
    },
    "papermill": {
     "duration": 2.154188,
     "end_time": "2021-06-06T03:24:25.976135",
     "exception": false,
     "start_time": "2021-06-06T03:24:23.821947",
     "status": "completed"
    },
    "tags": []
   },
   "outputs": [
    {
     "name": "stdout",
     "output_type": "stream",
     "text": [
      "            ID  shop_id  item_id\n",
      "0            0        5     5037\n",
      "1            1        5     5320\n",
      "2            2        5     5233\n",
      "3            3        5     5232\n",
      "4            4        5     5268\n",
      "...        ...      ...      ...\n",
      "214195  214195       45    18454\n",
      "214196  214196       45    16188\n",
      "214197  214197       45    15757\n",
      "214198  214198       45    19648\n",
      "214199  214199       45      969\n",
      "\n",
      "[214200 rows x 3 columns]\n"
     ]
    },
    {
     "data": {
      "text/html": [
       "<div>\n",
       "<style scoped>\n",
       "    .dataframe tbody tr th:only-of-type {\n",
       "        vertical-align: middle;\n",
       "    }\n",
       "\n",
       "    .dataframe tbody tr th {\n",
       "        vertical-align: top;\n",
       "    }\n",
       "\n",
       "    .dataframe thead th {\n",
       "        text-align: right;\n",
       "    }\n",
       "</style>\n",
       "<table border=\"1\" class=\"dataframe\">\n",
       "  <thead>\n",
       "    <tr style=\"text-align: right;\">\n",
       "      <th></th>\n",
       "      <th>ID</th>\n",
       "      <th>shop_id</th>\n",
       "      <th>item_id</th>\n",
       "    </tr>\n",
       "  </thead>\n",
       "  <tbody>\n",
       "    <tr>\n",
       "      <th>0</th>\n",
       "      <td>0</td>\n",
       "      <td>5</td>\n",
       "      <td>5037</td>\n",
       "    </tr>\n",
       "    <tr>\n",
       "      <th>1</th>\n",
       "      <td>1</td>\n",
       "      <td>5</td>\n",
       "      <td>5320</td>\n",
       "    </tr>\n",
       "    <tr>\n",
       "      <th>2</th>\n",
       "      <td>2</td>\n",
       "      <td>5</td>\n",
       "      <td>5233</td>\n",
       "    </tr>\n",
       "    <tr>\n",
       "      <th>3</th>\n",
       "      <td>3</td>\n",
       "      <td>5</td>\n",
       "      <td>5232</td>\n",
       "    </tr>\n",
       "    <tr>\n",
       "      <th>4</th>\n",
       "      <td>4</td>\n",
       "      <td>5</td>\n",
       "      <td>5268</td>\n",
       "    </tr>\n",
       "  </tbody>\n",
       "</table>\n",
       "</div>"
      ],
      "text/plain": [
       "   ID  shop_id  item_id\n",
       "0   0        5     5037\n",
       "1   1        5     5320\n",
       "2   2        5     5233\n",
       "3   3        5     5232\n",
       "4   4        5     5268"
      ]
     },
     "execution_count": 2,
     "metadata": {},
     "output_type": "execute_result"
    }
   ],
   "source": [
    "df_train = pd.read_csv('../input/competitive-data-science-predict-future-sales/sales_train.csv')\n",
    "df_test = pd.read_csv('../input/competitive-data-science-predict-future-sales/test.csv')\n",
    "print(df_test)\n",
    "df_train.head()\n",
    "df_test.head()"
   ]
  },
  {
   "cell_type": "code",
   "execution_count": 3,
   "id": "smart-population",
   "metadata": {
    "execution": {
     "iopub.execute_input": "2021-06-06T03:24:26.002245Z",
     "iopub.status.busy": "2021-06-06T03:24:26.001420Z",
     "iopub.status.idle": "2021-06-06T03:24:43.189771Z",
     "shell.execute_reply": "2021-06-06T03:24:43.189299Z",
     "shell.execute_reply.started": "2021-06-06T03:12:27.993454Z"
    },
    "papermill": {
     "duration": 17.20216,
     "end_time": "2021-06-06T03:24:43.189923",
     "exception": false,
     "start_time": "2021-06-06T03:24:25.987763",
     "status": "completed"
    },
    "tags": []
   },
   "outputs": [
    {
     "name": "stdout",
     "output_type": "stream",
     "text": [
      "<class 'pandas.core.frame.DataFrame'>\n",
      "RangeIndex: 2935849 entries, 0 to 2935848\n",
      "Data columns (total 4 columns):\n",
      " #   Column        Dtype  \n",
      "---  ------        -----  \n",
      " 0   date          object \n",
      " 1   shop_id       int64  \n",
      " 2   item_id       int64  \n",
      " 3   item_cnt_day  float64\n",
      "dtypes: float64(1), int64(2), object(1)\n",
      "memory usage: 89.6+ MB\n",
      "0          59\n",
      "1          25\n",
      "2          25\n",
      "3          25\n",
      "4          25\n",
      "           ..\n",
      "2935844    25\n",
      "2935845    25\n",
      "2935846    25\n",
      "2935847    25\n",
      "2935848    25\n",
      "Name: shop_id, Length: 2935849, dtype: int64\n"
     ]
    },
    {
     "data": {
      "text/html": [
       "<div>\n",
       "<style scoped>\n",
       "    .dataframe tbody tr th:only-of-type {\n",
       "        vertical-align: middle;\n",
       "    }\n",
       "\n",
       "    .dataframe tbody tr th {\n",
       "        vertical-align: top;\n",
       "    }\n",
       "\n",
       "    .dataframe thead th {\n",
       "        text-align: right;\n",
       "    }\n",
       "</style>\n",
       "<table border=\"1\" class=\"dataframe\">\n",
       "  <thead>\n",
       "    <tr style=\"text-align: right;\">\n",
       "      <th></th>\n",
       "      <th>date</th>\n",
       "      <th>shop_id</th>\n",
       "      <th>item_id</th>\n",
       "      <th>item_cnt_day</th>\n",
       "    </tr>\n",
       "  </thead>\n",
       "  <tbody>\n",
       "    <tr>\n",
       "      <th>0</th>\n",
       "      <td>2013-01</td>\n",
       "      <td>59</td>\n",
       "      <td>22154</td>\n",
       "      <td>1.0</td>\n",
       "    </tr>\n",
       "    <tr>\n",
       "      <th>1</th>\n",
       "      <td>2013-01</td>\n",
       "      <td>25</td>\n",
       "      <td>2552</td>\n",
       "      <td>1.0</td>\n",
       "    </tr>\n",
       "    <tr>\n",
       "      <th>2</th>\n",
       "      <td>2013-01</td>\n",
       "      <td>25</td>\n",
       "      <td>2552</td>\n",
       "      <td>-1.0</td>\n",
       "    </tr>\n",
       "    <tr>\n",
       "      <th>3</th>\n",
       "      <td>2013-01</td>\n",
       "      <td>25</td>\n",
       "      <td>2554</td>\n",
       "      <td>1.0</td>\n",
       "    </tr>\n",
       "    <tr>\n",
       "      <th>4</th>\n",
       "      <td>2013-01</td>\n",
       "      <td>25</td>\n",
       "      <td>2555</td>\n",
       "      <td>1.0</td>\n",
       "    </tr>\n",
       "  </tbody>\n",
       "</table>\n",
       "</div>"
      ],
      "text/plain": [
       "      date  shop_id  item_id  item_cnt_day\n",
       "0  2013-01       59    22154           1.0\n",
       "1  2013-01       25     2552           1.0\n",
       "2  2013-01       25     2552          -1.0\n",
       "3  2013-01       25     2554           1.0\n",
       "4  2013-01       25     2555           1.0"
      ]
     },
     "execution_count": 3,
     "metadata": {},
     "output_type": "execute_result"
    }
   ],
   "source": [
    "df_train.drop(['date_block_num','item_price'], axis=1, inplace=True)\n",
    "df_train.info()\n",
    "print(df_train['shop_id'])\n",
    "df_train['date'] = pd.to_datetime(df_train['date'], dayfirst=True)\n",
    "df_train['date'] = df_train['date'].apply(lambda x: x.strftime('%Y-%m'))\n",
    "df_train.head()\n"
   ]
  },
  {
   "cell_type": "code",
   "execution_count": 4,
   "id": "metric-garage",
   "metadata": {
    "execution": {
     "iopub.execute_input": "2021-06-06T03:24:43.272097Z",
     "iopub.status.busy": "2021-06-06T03:24:43.229206Z",
     "iopub.status.idle": "2021-06-06T03:24:46.589868Z",
     "shell.execute_reply": "2021-06-06T03:24:46.589413Z",
     "shell.execute_reply.started": "2021-06-06T03:12:45.214311Z"
    },
    "papermill": {
     "duration": 3.387899,
     "end_time": "2021-06-06T03:24:46.589997",
     "exception": false,
     "start_time": "2021-06-06T03:24:43.202098",
     "status": "completed"
    },
    "tags": []
   },
   "outputs": [
    {
     "data": {
      "text/html": [
       "<div>\n",
       "<style scoped>\n",
       "    .dataframe tbody tr th:only-of-type {\n",
       "        vertical-align: middle;\n",
       "    }\n",
       "\n",
       "    .dataframe tbody tr th {\n",
       "        vertical-align: top;\n",
       "    }\n",
       "\n",
       "    .dataframe thead th {\n",
       "        text-align: right;\n",
       "    }\n",
       "</style>\n",
       "<table border=\"1\" class=\"dataframe\">\n",
       "  <thead>\n",
       "    <tr style=\"text-align: right;\">\n",
       "      <th>date</th>\n",
       "      <th>shop_id</th>\n",
       "      <th>item_id</th>\n",
       "      <th>2013-01</th>\n",
       "      <th>2013-02</th>\n",
       "      <th>2013-03</th>\n",
       "      <th>2013-04</th>\n",
       "      <th>2013-05</th>\n",
       "      <th>2013-06</th>\n",
       "      <th>2013-07</th>\n",
       "      <th>2013-08</th>\n",
       "      <th>...</th>\n",
       "      <th>2015-01</th>\n",
       "      <th>2015-02</th>\n",
       "      <th>2015-03</th>\n",
       "      <th>2015-04</th>\n",
       "      <th>2015-05</th>\n",
       "      <th>2015-06</th>\n",
       "      <th>2015-07</th>\n",
       "      <th>2015-08</th>\n",
       "      <th>2015-09</th>\n",
       "      <th>2015-10</th>\n",
       "    </tr>\n",
       "  </thead>\n",
       "  <tbody>\n",
       "    <tr>\n",
       "      <th>0</th>\n",
       "      <td>0</td>\n",
       "      <td>30</td>\n",
       "      <td>0</td>\n",
       "      <td>31</td>\n",
       "      <td>0</td>\n",
       "      <td>0</td>\n",
       "      <td>0</td>\n",
       "      <td>0</td>\n",
       "      <td>0</td>\n",
       "      <td>0</td>\n",
       "      <td>...</td>\n",
       "      <td>0</td>\n",
       "      <td>0</td>\n",
       "      <td>0</td>\n",
       "      <td>0</td>\n",
       "      <td>0</td>\n",
       "      <td>0</td>\n",
       "      <td>0</td>\n",
       "      <td>0</td>\n",
       "      <td>0</td>\n",
       "      <td>0</td>\n",
       "    </tr>\n",
       "    <tr>\n",
       "      <th>1</th>\n",
       "      <td>0</td>\n",
       "      <td>31</td>\n",
       "      <td>0</td>\n",
       "      <td>11</td>\n",
       "      <td>0</td>\n",
       "      <td>0</td>\n",
       "      <td>0</td>\n",
       "      <td>0</td>\n",
       "      <td>0</td>\n",
       "      <td>0</td>\n",
       "      <td>...</td>\n",
       "      <td>0</td>\n",
       "      <td>0</td>\n",
       "      <td>0</td>\n",
       "      <td>0</td>\n",
       "      <td>0</td>\n",
       "      <td>0</td>\n",
       "      <td>0</td>\n",
       "      <td>0</td>\n",
       "      <td>0</td>\n",
       "      <td>0</td>\n",
       "    </tr>\n",
       "    <tr>\n",
       "      <th>2</th>\n",
       "      <td>0</td>\n",
       "      <td>32</td>\n",
       "      <td>6</td>\n",
       "      <td>10</td>\n",
       "      <td>0</td>\n",
       "      <td>0</td>\n",
       "      <td>0</td>\n",
       "      <td>0</td>\n",
       "      <td>0</td>\n",
       "      <td>0</td>\n",
       "      <td>...</td>\n",
       "      <td>0</td>\n",
       "      <td>0</td>\n",
       "      <td>0</td>\n",
       "      <td>0</td>\n",
       "      <td>0</td>\n",
       "      <td>0</td>\n",
       "      <td>0</td>\n",
       "      <td>0</td>\n",
       "      <td>0</td>\n",
       "      <td>0</td>\n",
       "    </tr>\n",
       "    <tr>\n",
       "      <th>3</th>\n",
       "      <td>0</td>\n",
       "      <td>33</td>\n",
       "      <td>3</td>\n",
       "      <td>3</td>\n",
       "      <td>0</td>\n",
       "      <td>0</td>\n",
       "      <td>0</td>\n",
       "      <td>0</td>\n",
       "      <td>0</td>\n",
       "      <td>0</td>\n",
       "      <td>...</td>\n",
       "      <td>0</td>\n",
       "      <td>0</td>\n",
       "      <td>0</td>\n",
       "      <td>0</td>\n",
       "      <td>0</td>\n",
       "      <td>0</td>\n",
       "      <td>0</td>\n",
       "      <td>0</td>\n",
       "      <td>0</td>\n",
       "      <td>0</td>\n",
       "    </tr>\n",
       "    <tr>\n",
       "      <th>4</th>\n",
       "      <td>0</td>\n",
       "      <td>35</td>\n",
       "      <td>1</td>\n",
       "      <td>14</td>\n",
       "      <td>0</td>\n",
       "      <td>0</td>\n",
       "      <td>0</td>\n",
       "      <td>0</td>\n",
       "      <td>0</td>\n",
       "      <td>0</td>\n",
       "      <td>...</td>\n",
       "      <td>0</td>\n",
       "      <td>0</td>\n",
       "      <td>0</td>\n",
       "      <td>0</td>\n",
       "      <td>0</td>\n",
       "      <td>0</td>\n",
       "      <td>0</td>\n",
       "      <td>0</td>\n",
       "      <td>0</td>\n",
       "      <td>0</td>\n",
       "    </tr>\n",
       "  </tbody>\n",
       "</table>\n",
       "<p>5 rows × 36 columns</p>\n",
       "</div>"
      ],
      "text/plain": [
       "date  shop_id  item_id  2013-01  2013-02  2013-03  2013-04  2013-05  2013-06  \\\n",
       "0           0       30        0       31        0        0        0        0   \n",
       "1           0       31        0       11        0        0        0        0   \n",
       "2           0       32        6       10        0        0        0        0   \n",
       "3           0       33        3        3        0        0        0        0   \n",
       "4           0       35        1       14        0        0        0        0   \n",
       "\n",
       "date  2013-07  2013-08  ...  2015-01  2015-02  2015-03  2015-04  2015-05  \\\n",
       "0           0        0  ...        0        0        0        0        0   \n",
       "1           0        0  ...        0        0        0        0        0   \n",
       "2           0        0  ...        0        0        0        0        0   \n",
       "3           0        0  ...        0        0        0        0        0   \n",
       "4           0        0  ...        0        0        0        0        0   \n",
       "\n",
       "date  2015-06  2015-07  2015-08  2015-09  2015-10  \n",
       "0           0        0        0        0        0  \n",
       "1           0        0        0        0        0  \n",
       "2           0        0        0        0        0  \n",
       "3           0        0        0        0        0  \n",
       "4           0        0        0        0        0  \n",
       "\n",
       "[5 rows x 36 columns]"
      ]
     },
     "execution_count": 4,
     "metadata": {},
     "output_type": "execute_result"
    }
   ],
   "source": [
    "X = df_train.groupby(['date','shop_id','item_id']).sum()\n",
    "X = X.pivot_table(index=['shop_id','item_id'], columns='date', values='item_cnt_day', fill_value=0)\n",
    "X.reset_index(inplace=True)\n",
    "X.head()"
   ]
  },
  {
   "cell_type": "code",
   "execution_count": 5,
   "id": "clinical-actor",
   "metadata": {
    "execution": {
     "iopub.execute_input": "2021-06-06T03:24:46.620491Z",
     "iopub.status.busy": "2021-06-06T03:24:46.619943Z",
     "iopub.status.idle": "2021-06-06T03:24:47.096796Z",
     "shell.execute_reply": "2021-06-06T03:24:47.096126Z",
     "shell.execute_reply.started": "2021-06-06T03:12:48.599698Z"
    },
    "papermill": {
     "duration": 0.494415,
     "end_time": "2021-06-06T03:24:47.096979",
     "exception": false,
     "start_time": "2021-06-06T03:24:46.602564",
     "status": "completed"
    },
    "tags": []
   },
   "outputs": [
    {
     "data": {
      "text/html": [
       "<div>\n",
       "<style scoped>\n",
       "    .dataframe tbody tr th:only-of-type {\n",
       "        vertical-align: middle;\n",
       "    }\n",
       "\n",
       "    .dataframe tbody tr th {\n",
       "        vertical-align: top;\n",
       "    }\n",
       "\n",
       "    .dataframe thead th {\n",
       "        text-align: right;\n",
       "    }\n",
       "</style>\n",
       "<table border=\"1\" class=\"dataframe\">\n",
       "  <thead>\n",
       "    <tr style=\"text-align: right;\">\n",
       "      <th></th>\n",
       "      <th>shop_id</th>\n",
       "      <th>item_id</th>\n",
       "      <th>2013-01</th>\n",
       "      <th>2013-02</th>\n",
       "      <th>2013-03</th>\n",
       "      <th>2013-04</th>\n",
       "      <th>2013-05</th>\n",
       "      <th>2013-06</th>\n",
       "      <th>2013-07</th>\n",
       "      <th>2013-08</th>\n",
       "      <th>...</th>\n",
       "      <th>2015-01</th>\n",
       "      <th>2015-02</th>\n",
       "      <th>2015-03</th>\n",
       "      <th>2015-04</th>\n",
       "      <th>2015-05</th>\n",
       "      <th>2015-06</th>\n",
       "      <th>2015-07</th>\n",
       "      <th>2015-08</th>\n",
       "      <th>2015-09</th>\n",
       "      <th>2015-10</th>\n",
       "    </tr>\n",
       "  </thead>\n",
       "  <tbody>\n",
       "    <tr>\n",
       "      <th>0</th>\n",
       "      <td>5</td>\n",
       "      <td>5037</td>\n",
       "      <td>0.0</td>\n",
       "      <td>0.0</td>\n",
       "      <td>0.0</td>\n",
       "      <td>0.0</td>\n",
       "      <td>0.0</td>\n",
       "      <td>0.0</td>\n",
       "      <td>0.0</td>\n",
       "      <td>0.0</td>\n",
       "      <td>...</td>\n",
       "      <td>2.0</td>\n",
       "      <td>0.0</td>\n",
       "      <td>0.0</td>\n",
       "      <td>0.0</td>\n",
       "      <td>1.0</td>\n",
       "      <td>1.0</td>\n",
       "      <td>1.0</td>\n",
       "      <td>3.0</td>\n",
       "      <td>1.0</td>\n",
       "      <td>0.0</td>\n",
       "    </tr>\n",
       "    <tr>\n",
       "      <th>1</th>\n",
       "      <td>5</td>\n",
       "      <td>5320</td>\n",
       "      <td>0.0</td>\n",
       "      <td>0.0</td>\n",
       "      <td>0.0</td>\n",
       "      <td>0.0</td>\n",
       "      <td>0.0</td>\n",
       "      <td>0.0</td>\n",
       "      <td>0.0</td>\n",
       "      <td>0.0</td>\n",
       "      <td>...</td>\n",
       "      <td>0.0</td>\n",
       "      <td>0.0</td>\n",
       "      <td>0.0</td>\n",
       "      <td>0.0</td>\n",
       "      <td>0.0</td>\n",
       "      <td>0.0</td>\n",
       "      <td>0.0</td>\n",
       "      <td>0.0</td>\n",
       "      <td>0.0</td>\n",
       "      <td>0.0</td>\n",
       "    </tr>\n",
       "    <tr>\n",
       "      <th>2</th>\n",
       "      <td>5</td>\n",
       "      <td>5233</td>\n",
       "      <td>0.0</td>\n",
       "      <td>0.0</td>\n",
       "      <td>0.0</td>\n",
       "      <td>0.0</td>\n",
       "      <td>0.0</td>\n",
       "      <td>0.0</td>\n",
       "      <td>0.0</td>\n",
       "      <td>0.0</td>\n",
       "      <td>...</td>\n",
       "      <td>0.0</td>\n",
       "      <td>0.0</td>\n",
       "      <td>0.0</td>\n",
       "      <td>0.0</td>\n",
       "      <td>3.0</td>\n",
       "      <td>2.0</td>\n",
       "      <td>0.0</td>\n",
       "      <td>1.0</td>\n",
       "      <td>3.0</td>\n",
       "      <td>1.0</td>\n",
       "    </tr>\n",
       "    <tr>\n",
       "      <th>3</th>\n",
       "      <td>5</td>\n",
       "      <td>5232</td>\n",
       "      <td>0.0</td>\n",
       "      <td>0.0</td>\n",
       "      <td>0.0</td>\n",
       "      <td>0.0</td>\n",
       "      <td>0.0</td>\n",
       "      <td>0.0</td>\n",
       "      <td>0.0</td>\n",
       "      <td>0.0</td>\n",
       "      <td>...</td>\n",
       "      <td>0.0</td>\n",
       "      <td>0.0</td>\n",
       "      <td>0.0</td>\n",
       "      <td>0.0</td>\n",
       "      <td>0.0</td>\n",
       "      <td>0.0</td>\n",
       "      <td>0.0</td>\n",
       "      <td>1.0</td>\n",
       "      <td>0.0</td>\n",
       "      <td>0.0</td>\n",
       "    </tr>\n",
       "    <tr>\n",
       "      <th>4</th>\n",
       "      <td>5</td>\n",
       "      <td>5268</td>\n",
       "      <td>0.0</td>\n",
       "      <td>0.0</td>\n",
       "      <td>0.0</td>\n",
       "      <td>0.0</td>\n",
       "      <td>0.0</td>\n",
       "      <td>0.0</td>\n",
       "      <td>0.0</td>\n",
       "      <td>0.0</td>\n",
       "      <td>...</td>\n",
       "      <td>0.0</td>\n",
       "      <td>0.0</td>\n",
       "      <td>0.0</td>\n",
       "      <td>0.0</td>\n",
       "      <td>0.0</td>\n",
       "      <td>0.0</td>\n",
       "      <td>0.0</td>\n",
       "      <td>0.0</td>\n",
       "      <td>0.0</td>\n",
       "      <td>0.0</td>\n",
       "    </tr>\n",
       "  </tbody>\n",
       "</table>\n",
       "<p>5 rows × 36 columns</p>\n",
       "</div>"
      ],
      "text/plain": [
       "   shop_id  item_id  2013-01  2013-02  2013-03  2013-04  2013-05  2013-06  \\\n",
       "0        5     5037      0.0      0.0      0.0      0.0      0.0      0.0   \n",
       "1        5     5320      0.0      0.0      0.0      0.0      0.0      0.0   \n",
       "2        5     5233      0.0      0.0      0.0      0.0      0.0      0.0   \n",
       "3        5     5232      0.0      0.0      0.0      0.0      0.0      0.0   \n",
       "4        5     5268      0.0      0.0      0.0      0.0      0.0      0.0   \n",
       "\n",
       "   2013-07  2013-08  ...  2015-01  2015-02  2015-03  2015-04  2015-05  \\\n",
       "0      0.0      0.0  ...      2.0      0.0      0.0      0.0      1.0   \n",
       "1      0.0      0.0  ...      0.0      0.0      0.0      0.0      0.0   \n",
       "2      0.0      0.0  ...      0.0      0.0      0.0      0.0      3.0   \n",
       "3      0.0      0.0  ...      0.0      0.0      0.0      0.0      0.0   \n",
       "4      0.0      0.0  ...      0.0      0.0      0.0      0.0      0.0   \n",
       "\n",
       "   2015-06  2015-07  2015-08  2015-09  2015-10  \n",
       "0      1.0      1.0      3.0      1.0      0.0  \n",
       "1      0.0      0.0      0.0      0.0      0.0  \n",
       "2      2.0      0.0      1.0      3.0      1.0  \n",
       "3      0.0      0.0      1.0      0.0      0.0  \n",
       "4      0.0      0.0      0.0      0.0      0.0  \n",
       "\n",
       "[5 rows x 36 columns]"
      ]
     },
     "execution_count": 5,
     "metadata": {},
     "output_type": "execute_result"
    }
   ],
   "source": [
    "X_t = pd.merge(df_test, X, on=['shop_id','item_id'], how='left')\n",
    "X_t.drop(['ID'], axis=1, inplace=True)\n",
    "u = X_t.select_dtypes(exclude=['datetime'])\n",
    "X_t[u.columns] = u.fillna(0)\n",
    "X_t.head()"
   ]
  },
  {
   "cell_type": "code",
   "execution_count": 6,
   "id": "dynamic-cuisine",
   "metadata": {
    "execution": {
     "iopub.execute_input": "2021-06-06T03:24:47.141825Z",
     "iopub.status.busy": "2021-06-06T03:24:47.140951Z",
     "iopub.status.idle": "2021-06-06T03:24:47.294158Z",
     "shell.execute_reply": "2021-06-06T03:24:47.293345Z",
     "shell.execute_reply.started": "2021-06-06T03:12:49.066955Z"
    },
    "papermill": {
     "duration": 0.180352,
     "end_time": "2021-06-06T03:24:47.294374",
     "exception": false,
     "start_time": "2021-06-06T03:24:47.114022",
     "status": "completed"
    },
    "tags": []
   },
   "outputs": [
    {
     "name": "stdout",
     "output_type": "stream",
     "text": [
      "(424124, 35) (424124,)\n",
      "(214200, 35)\n"
     ]
    }
   ],
   "source": [
    "Y = X['2015-10'].values\n",
    "X_T = X.drop(['2015-10'], axis = 1)\n",
    "X_t = X_t.drop(['2015-10'], axis = 1)\n",
    "print(X_T.shape, Y.shape)\n",
    "print(X_t.shape)"
   ]
  },
  {
   "cell_type": "markdown",
   "id": "cloudy-precipitation",
   "metadata": {
    "papermill": {
     "duration": 0.012708,
     "end_time": "2021-06-06T03:24:47.320942",
     "exception": false,
     "start_time": "2021-06-06T03:24:47.308234",
     "status": "completed"
    },
    "tags": []
   },
   "source": [
    "#  Correlation Analysis"
   ]
  },
  {
   "cell_type": "code",
   "execution_count": 7,
   "id": "apparent-lesbian",
   "metadata": {
    "execution": {
     "iopub.execute_input": "2021-06-06T03:24:47.354884Z",
     "iopub.status.busy": "2021-06-06T03:24:47.353600Z",
     "iopub.status.idle": "2021-06-06T03:24:52.583888Z",
     "shell.execute_reply": "2021-06-06T03:24:52.584303Z",
     "shell.execute_reply.started": "2021-06-06T03:12:49.216288Z"
    },
    "papermill": {
     "duration": 5.250318,
     "end_time": "2021-06-06T03:24:52.584453",
     "exception": false,
     "start_time": "2021-06-06T03:24:47.334135",
     "status": "completed"
    },
    "tags": []
   },
   "outputs": [
    {
     "data": {
      "image/png": "[encoded data removed]",
      "text/plain": [
       "<Figure size 432x288 with 3 Axes>"
      ]
     },
     "metadata": {
      "needs_background": "light"
     },
     "output_type": "display_data"
    }
   ],
   "source": [
    "corrmat = X_t.corr()\n",
    "sns.heatmap(corrmat,square= True)\n",
    "k = 35\n",
    "cols = corrmat.nlargest(k, '2015-09')['2015-09'].index\n",
    "cm = np.corrcoef(X_t[cols].values.T)\n",
    "sns.set(font_scale=1.25)\n",
    "hm = sns.heatmap(cm, cbar=True, annot=True, square=True, fmt='.2f', annot_kws={'size': 5},yticklabels=cols.values, xticklabels=cols.values)\n",
    "plt.tick_params(labelsize=8)\n",
    "plt.show()"
   ]
  },
  {
   "cell_type": "markdown",
   "id": "binding-thousand",
   "metadata": {
    "papermill": {
     "duration": 0.016361,
     "end_time": "2021-06-06T03:24:52.619958",
     "exception": false,
     "start_time": "2021-06-06T03:24:52.603597",
     "status": "completed"
    },
    "tags": []
   },
   "source": [
    "#  Modeling for Prediction"
   ]
  },
  {
   "cell_type": "code",
   "execution_count": 8,
   "id": "military-deployment",
   "metadata": {
    "execution": {
     "iopub.execute_input": "2021-06-06T03:24:52.658249Z",
     "iopub.status.busy": "2021-06-06T03:24:52.657726Z",
     "iopub.status.idle": "2021-06-06T03:24:52.660094Z",
     "shell.execute_reply": "2021-06-06T03:24:52.659713Z",
     "shell.execute_reply.started": "2021-06-06T03:12:54.438506Z"
    },
    "papermill": {
     "duration": 0.024255,
     "end_time": "2021-06-06T03:24:52.660212",
     "exception": false,
     "start_time": "2021-06-06T03:24:52.635957",
     "status": "completed"
    },
    "tags": []
   },
   "outputs": [],
   "source": [
    "def print_evaluate(true, predicted):  \n",
    "    mae = metrics.mean_absolute_error(true, predicted)\n",
    "    mse = metrics.mean_squared_error(true, predicted)\n",
    "    rmse = np.sqrt(metrics.mean_squared_error(true, predicted))\n",
    "    r2_square = metrics.r2_score(true, predicted)\n",
    "    print('MAE:', mae)\n",
    "    print('MSE:', mse)\n",
    "    print('RMSE:', rmse)\n",
    "    print('R2 Square', r2_square)\n",
    "    print('__________________________________')\n",
    "    \n",
    "def evaluate(true, predicted):\n",
    "    mae = metrics.mean_absolute_error(true, predicted)\n",
    "    mse = metrics.mean_squared_error(true, predicted)\n",
    "    rmse = np.sqrt(metrics.mean_squared_error(true, predicted))\n",
    "    r2_square = metrics.r2_score(true, predicted)\n",
    "    return mae, mse, rmse, r2_square"
   ]
  },
  {
   "cell_type": "code",
   "execution_count": 9,
   "id": "dominican-evanescence",
   "metadata": {
    "execution": {
     "iopub.execute_input": "2021-06-06T03:24:52.696162Z",
     "iopub.status.busy": "2021-06-06T03:24:52.695588Z",
     "iopub.status.idle": "2021-06-06T03:24:52.853595Z",
     "shell.execute_reply": "2021-06-06T03:24:52.853151Z",
     "shell.execute_reply.started": "2021-06-06T03:12:54.445577Z"
    },
    "papermill": {
     "duration": 0.17763,
     "end_time": "2021-06-06T03:24:52.853725",
     "exception": false,
     "start_time": "2021-06-06T03:24:52.676095",
     "status": "completed"
    },
    "tags": []
   },
   "outputs": [
    {
     "name": "stdout",
     "output_type": "stream",
     "text": [
      "(339299, 35) (339299,)\n",
      "(84825, 35) (84825,)\n"
     ]
    }
   ],
   "source": [
    "x_train, x_val, y_train, y_val = train_test_split(X_T, Y, test_size=0.2, random_state=3)\n",
    "print(x_train.shape,y_train.shape)\n",
    "print(x_val.shape,y_val.shape)"
   ]
  },
  {
   "cell_type": "code",
   "execution_count": 10,
   "id": "mature-apparatus",
   "metadata": {
    "execution": {
     "iopub.execute_input": "2021-06-06T03:24:52.893143Z",
     "iopub.status.busy": "2021-06-06T03:24:52.892144Z",
     "iopub.status.idle": "2021-06-06T03:30:33.347242Z",
     "shell.execute_reply": "2021-06-06T03:30:33.347744Z",
     "shell.execute_reply.started": "2021-06-06T03:12:54.634576Z"
    },
    "papermill": {
     "duration": 340.478116,
     "end_time": "2021-06-06T03:30:33.347907",
     "exception": false,
     "start_time": "2021-06-06T03:24:52.869791",
     "status": "completed"
    },
    "tags": []
   },
   "outputs": [
    {
     "data": {
      "text/plain": [
       "RandomForestRegressor()"
      ]
     },
     "execution_count": 10,
     "metadata": {},
     "output_type": "execute_result"
    }
   ],
   "source": [
    "RF_reg = RandomForestRegressor(n_estimators = 100)\n",
    "RF_reg.fit(x_train, y_train)"
   ]
  },
  {
   "cell_type": "code",
   "execution_count": 11,
   "id": "pointed-stocks",
   "metadata": {
    "execution": {
     "iopub.execute_input": "2021-06-06T03:30:33.387926Z",
     "iopub.status.busy": "2021-06-06T03:30:33.386872Z",
     "iopub.status.idle": "2021-06-06T03:30:44.978168Z",
     "shell.execute_reply": "2021-06-06T03:30:44.977706Z",
     "shell.execute_reply.started": "2021-06-06T03:18:32.542797Z"
    },
    "papermill": {
     "duration": 11.61412,
     "end_time": "2021-06-06T03:30:44.978332",
     "exception": false,
     "start_time": "2021-06-06T03:30:33.364212",
     "status": "completed"
    },
    "tags": []
   },
   "outputs": [
    {
     "name": "stdout",
     "output_type": "stream",
     "text": [
      "[0.   0.   0.   ... 0.16 0.   0.  ]\n",
      "[0.   0.1  0.   ... 0.58 0.03 0.  ]\n",
      "MAE: 0.1626284703801945\n",
      "MSE: 1.4881873952254643\n",
      "RMSE: 1.2199128637839116\n",
      "R2 Square 0.5945097793292966\n",
      "__________________________________\n",
      "MAE: 0.0647606683190932\n",
      "MSE: 2.0516822622524673\n",
      "RMSE: 1.4323694573162566\n",
      "R2 Square 0.8928456400516975\n",
      "__________________________________\n"
     ]
    }
   ],
   "source": [
    "val_pred = RF_reg.predict(x_val)\n",
    "train_pred = RF_reg.predict(x_train)\n",
    "print(val_pred)\n",
    "print(train_pred)\n",
    "print_evaluate(y_val, val_pred)\n",
    "print_evaluate(y_train, train_pred)"
   ]
  },
  {
   "cell_type": "code",
   "execution_count": 12,
   "id": "active-address",
   "metadata": {
    "execution": {
     "iopub.execute_input": "2021-06-06T03:30:45.017919Z",
     "iopub.status.busy": "2021-06-06T03:30:45.017265Z",
     "iopub.status.idle": "2021-06-06T03:30:50.511686Z",
     "shell.execute_reply": "2021-06-06T03:30:50.511186Z",
     "shell.execute_reply.started": "2021-06-06T03:18:43.733931Z"
    },
    "papermill": {
     "duration": 5.516772,
     "end_time": "2021-06-06T03:30:50.511864",
     "exception": false,
     "start_time": "2021-06-06T03:30:44.995092",
     "status": "completed"
    },
    "tags": []
   },
   "outputs": [
    {
     "name": "stdout",
     "output_type": "stream",
     "text": [
      "prediction for test data: [0.07 0.75 0.87 ... 0.01 0.99 0.1 ]\n",
      "(214200,)\n"
     ]
    }
   ],
   "source": [
    "test_pred = RF_reg.predict(X_t)\n",
    "print('prediction for test data:',test_pred)\n",
    "print(test_pred.shape)"
   ]
  },
  {
   "cell_type": "code",
   "execution_count": 13,
   "id": "restricted-dancing",
   "metadata": {
    "execution": {
     "iopub.execute_input": "2021-06-06T03:30:50.551252Z",
     "iopub.status.busy": "2021-06-06T03:30:50.550352Z",
     "iopub.status.idle": "2021-06-06T03:30:50.717615Z",
     "shell.execute_reply": "2021-06-06T03:30:50.718033Z",
     "shell.execute_reply.started": "2021-06-06T03:18:49.128194Z"
    },
    "papermill": {
     "duration": 0.189193,
     "end_time": "2021-06-06T03:30:50.718187",
     "exception": false,
     "start_time": "2021-06-06T03:30:50.528994",
     "status": "completed"
    },
    "tags": []
   },
   "outputs": [
    {
     "name": "stdout",
     "output_type": "stream",
     "text": [
      "[[     0      5   5037]\n",
      " [     1      5   5320]\n",
      " [     2      5   5233]\n",
      " ...\n",
      " [214197     45  15757]\n",
      " [214198     45  19648]\n",
      " [214199     45    969]]\n",
      "[0.07 0.75 0.87 ... 0.01 0.99 0.1 ]\n"
     ]
    },
    {
     "data": {
      "image/png": "[encoded data removed]",
      "text/plain": [
       "<Figure size 432x288 with 1 Axes>"
      ]
     },
     "metadata": {},
     "output_type": "display_data"
    }
   ],
   "source": [
    "x = np.array(df_test)\n",
    "print(x)\n",
    "print(test_pred)\n",
    "plt.plot(x[:,0:1],test_pred)\n",
    "plt.show()"
   ]
  },
  {
   "cell_type": "markdown",
   "id": "correct-economy",
   "metadata": {
    "papermill": {
     "duration": 0.017546,
     "end_time": "2021-06-06T03:30:50.754359",
     "exception": false,
     "start_time": "2021-06-06T03:30:50.736813",
     "status": "completed"
    },
    "tags": []
   },
   "source": [
    "#  Submission"
   ]
  },
  {
   "cell_type": "code",
   "execution_count": 14,
   "id": "danish-latvia",
   "metadata": {
    "execution": {
     "iopub.execute_input": "2021-06-06T03:30:50.795403Z",
     "iopub.status.busy": "2021-06-06T03:30:50.794801Z",
     "iopub.status.idle": "2021-06-06T03:30:51.118431Z",
     "shell.execute_reply": "2021-06-06T03:30:51.118859Z",
     "shell.execute_reply.started": "2021-06-06T03:18:49.302605Z"
    },
    "papermill": {
     "duration": 0.346559,
     "end_time": "2021-06-06T03:30:51.119013",
     "exception": false,
     "start_time": "2021-06-06T03:30:50.772454",
     "status": "completed"
    },
    "tags": []
   },
   "outputs": [
    {
     "name": "stdout",
     "output_type": "stream",
     "text": [
      "            ID  item_cnt_month\n",
      "0            0            0.07\n",
      "1            1            0.75\n",
      "2            2            0.87\n",
      "3            3            0.16\n",
      "4            4            0.76\n",
      "...        ...             ...\n",
      "214195  214195            0.65\n",
      "214196  214196            1.03\n",
      "214197  214197            0.01\n",
      "214198  214198            0.99\n",
      "214199  214199            0.10\n",
      "\n",
      "[214200 rows x 2 columns]\n"
     ]
    },
    {
     "data": {
      "text/html": [
       "<div>\n",
       "<style scoped>\n",
       "    .dataframe tbody tr th:only-of-type {\n",
       "        vertical-align: middle;\n",
       "    }\n",
       "\n",
       "    .dataframe tbody tr th {\n",
       "        vertical-align: top;\n",
       "    }\n",
       "\n",
       "    .dataframe thead th {\n",
       "        text-align: right;\n",
       "    }\n",
       "</style>\n",
       "<table border=\"1\" class=\"dataframe\">\n",
       "  <thead>\n",
       "    <tr style=\"text-align: right;\">\n",
       "      <th></th>\n",
       "      <th>ID</th>\n",
       "      <th>item_cnt_month</th>\n",
       "    </tr>\n",
       "  </thead>\n",
       "  <tbody>\n",
       "    <tr>\n",
       "      <th>0</th>\n",
       "      <td>0</td>\n",
       "      <td>0.07</td>\n",
       "    </tr>\n",
       "    <tr>\n",
       "      <th>1</th>\n",
       "      <td>1</td>\n",
       "      <td>0.75</td>\n",
       "    </tr>\n",
       "    <tr>\n",
       "      <th>2</th>\n",
       "      <td>2</td>\n",
       "      <td>0.87</td>\n",
       "    </tr>\n",
       "    <tr>\n",
       "      <th>3</th>\n",
       "      <td>3</td>\n",
       "      <td>0.16</td>\n",
       "    </tr>\n",
       "    <tr>\n",
       "      <th>4</th>\n",
       "      <td>4</td>\n",
       "      <td>0.76</td>\n",
       "    </tr>\n",
       "  </tbody>\n",
       "</table>\n",
       "</div>"
      ],
      "text/plain": [
       "   ID  item_cnt_month\n",
       "0   0            0.07\n",
       "1   1            0.75\n",
       "2   2            0.87\n",
       "3   3            0.16\n",
       "4   4            0.76"
      ]
     },
     "execution_count": 14,
     "metadata": {},
     "output_type": "execute_result"
    }
   ],
   "source": [
    "submission = pd.DataFrame({\n",
    "    'ID':df_test['ID'],\n",
    "    'item_cnt_month':test_pred\n",
    "})\n",
    "submission.to_csv('submission.csv', index=False)\n",
    "print(submission)\n",
    "submission.head()"
   ]
  },
  {
   "cell_type": "code",
   "execution_count": null,
   "id": "sitting-desperate",
   "metadata": {
    "papermill": {
     "duration": 0.017999,
     "end_time": "2021-06-06T03:30:51.155668",
     "exception": false,
     "start_time": "2021-06-06T03:30:51.137669",
     "status": "completed"
    },
    "tags": []
   },
   "outputs": [],
   "source": []
  }
 ],
 "metadata": {
  "kernelspec": {
   "display_name": "Python 3",
   "language": "python",
   "name": "python3"
  },
  "language_info": {
   "codemirror_mode": {
    "name": "ipython",
    "version": 3
   },
   "file_extension": ".py",
   "mimetype": "text/x-python",
   "name": "python",
   "nbconvert_exporter": "python",
   "pygments_lexer": "ipython3",
   "version": "3.7.10"
  },
  "papermill": {
   "default_parameters": {},
   "duration": 396.899713,
   "end_time": "2021-06-06T03:30:52.859050",
   "environment_variables": {},
   "exception": null,
   "input_path": "__notebook__.ipynb",
   "output_path": "__notebook__.ipynb",
   "parameters": {},
   "start_time": "2021-06-06T03:24:15.959337",
   "version": "2.3.3"
  }
 },
 "nbformat": 4,
 "nbformat_minor": 5
}
